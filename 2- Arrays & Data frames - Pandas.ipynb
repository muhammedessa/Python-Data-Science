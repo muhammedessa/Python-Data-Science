{
 "cells": [
  {
   "cell_type": "markdown",
   "metadata": {},
   "source": [
    "# Pandas "
   ]
  },
  {
   "cell_type": "markdown",
   "metadata": {},
   "source": [
    "Pandas is a Python library used for data manipulation and analysis. Pandas provides a convenient way to analyze and clean data."
   ]
  },
  {
   "cell_type": "markdown",
   "metadata": {},
   "source": [
    "### What is Pandas Used for?\n",
    "\n",
    "Pandas is a powerful library generally used for:\n",
    "\n",
    "Data Cleaning\n",
    "\n",
    "Data Transformation\n",
    "\n",
    "Data Analysis\n",
    "\n",
    "Machine Learning\n",
    "\n",
    "Data Visualization\n"
   ]
  },
  {
   "cell_type": "markdown",
   "metadata": {},
   "source": [
    "### Install Pandas\n",
    "\n",
    "by entering the following command in the terminal:\n",
    "\n",
    "pip install pandas"
   ]
  },
  {
   "cell_type": "markdown",
   "metadata": {},
   "source": [
    "### Import Pandas in Python \n",
    "\n",
    "import pandas as pd"
   ]
  },
  {
   "cell_type": "markdown",
   "metadata": {},
   "source": [
    "### Pandas Series  "
   ]
  },
  {
   "cell_type": "markdown",
   "metadata": {},
   "source": [
    "### Create a Pandas Series\n"
   ]
  },
  {
   "cell_type": "code",
   "execution_count": 2,
   "metadata": {},
   "outputs": [
    {
     "name": "stdout",
     "output_type": "stream",
     "text": [
      "[10, 20, 30, 40, 50]\n",
      "0    10\n",
      "1    20\n",
      "2    30\n",
      "3    40\n",
      "4    50\n",
      "dtype: int64\n"
     ]
    }
   ],
   "source": [
    "import pandas as pd\n",
    "\n",
    "# create a list\n",
    "data = [10, 20, 30, 40, 50]\n",
    "print(data)\n",
    "# create a series from the list\n",
    "my_series = pd.Series(data)\n",
    "\n",
    "print(my_series)"
   ]
  },
  {
   "cell_type": "markdown",
   "metadata": {},
   "source": [
    "### Labels\n",
    " "
   ]
  },
  {
   "cell_type": "code",
   "execution_count": 4,
   "metadata": {},
   "outputs": [
    {
     "name": "stdout",
     "output_type": "stream",
     "text": [
      "0    10\n",
      "1    20\n",
      "2    30\n",
      "3    40\n",
      "4    50\n",
      "dtype: int64\n",
      "30\n"
     ]
    }
   ],
   "source": [
    "import pandas as pd\n",
    "\n",
    "# create a list\n",
    "data = [10, 20, 30, 40, 50]\n",
    "\n",
    "# create a series from the list\n",
    "my_series = pd.Series(data)\n",
    "print(my_series )\n",
    "# display third value in the series\n",
    "print(my_series[2])"
   ]
  },
  {
   "cell_type": "code",
   "execution_count": 8,
   "metadata": {},
   "outputs": [
    {
     "name": "stdout",
     "output_type": "stream",
     "text": [
      "x    1\n",
      "y    3\n",
      "z    5\n",
      "dtype: int64\n",
      "1\n"
     ]
    }
   ],
   "source": [
    "import pandas as pd \n",
    "\n",
    "# create a list\n",
    "a = [1, 3, 5]\n",
    "\n",
    "# create a series and specify labels\n",
    "my_series = pd.Series(a, index = [\"x\", \"y\", \"z\"])\n",
    "\n",
    "print(my_series)\n",
    "print(my_series['x'])"
   ]
  },
  {
   "cell_type": "code",
   "execution_count": 5,
   "metadata": {},
   "outputs": [
    {
     "name": "stdout",
     "output_type": "stream",
     "text": [
      "3\n"
     ]
    }
   ],
   "source": [
    "import pandas as pd \n",
    "\n",
    "# create a list\n",
    "a = [1, 3, 5]\n",
    "\n",
    "# create a series and specify labels\n",
    "my_series = pd.Series(a, index = [\"x\", \"y\", \"z\"])\n",
    "\n",
    "# display the value with label y\n",
    "print(my_series[\"y\"])"
   ]
  },
  {
   "cell_type": "markdown",
   "metadata": {},
   "source": [
    "### Create Series From a Python Dictionary"
   ]
  },
  {
   "cell_type": "code",
   "execution_count": 10,
   "metadata": {},
   "outputs": [
    {
     "name": "stdout",
     "output_type": "stream",
     "text": [
      "Semester1    3.25\n",
      "Semester2    3.28\n",
      "Semester3    3.75\n",
      "dtype: float64\n",
      "3.25\n"
     ]
    }
   ],
   "source": [
    "import pandas as pd\n",
    "\n",
    "# create a dictionary\n",
    "grades = {\"Semester1\": 3.25, \"Semester2\": 3.28, \"Semester3\": 3.75}\n",
    "\n",
    "# create a series from the dictionary\n",
    "my_series = pd.Series(grades)\n",
    "\n",
    "# display the series\n",
    "print(my_series)\n",
    "print(my_series[\"Semester1\"])"
   ]
  },
  {
   "cell_type": "code",
   "execution_count": 11,
   "metadata": {},
   "outputs": [
    {
     "name": "stdout",
     "output_type": "stream",
     "text": [
      "Semester1    3.25\n",
      "Semester2    3.28\n",
      "dtype: float64\n"
     ]
    }
   ],
   "source": [
    "import pandas as pd\n",
    "\n",
    "# create a dictionary\n",
    "grades = {\"Semester1\": 3.25, \"Semester2\": 3.28, \"Semester3\": 3.75}\n",
    "\n",
    "# select specific dictionary items using index argument\n",
    "my_series = pd.Series(grades, index = [\"Semester1\", \"Semester2\"])\n",
    "\n",
    "# display the series\n",
    "print(my_series)"
   ]
  },
  {
   "cell_type": "markdown",
   "metadata": {},
   "source": [
    "### Pandas DataFrame\n"
   ]
  },
  {
   "cell_type": "markdown",
   "metadata": {},
   "source": [
    "### Pandas DataFrame Using Python Dictionary"
   ]
  },
  {
   "cell_type": "code",
   "execution_count": 12,
   "metadata": {},
   "outputs": [
    {
     "name": "stdout",
     "output_type": "stream",
     "text": [
      "    Name  Age      City\n",
      "0   John   25  New York\n",
      "1  Alice   30    London\n",
      "2    Bob   35     Paris\n"
     ]
    }
   ],
   "source": [
    "import pandas as pd\n",
    "\n",
    "# create a dictionary\n",
    "data = {'Name': ['John', 'Alice', 'Bob'],\n",
    "       'Age': [25, 30, 35],\n",
    "       'City': ['New York', 'London', 'Paris']}\n",
    "\n",
    "# create a dataframe from the dictionary\n",
    "df = pd.DataFrame(data)\n",
    "\n",
    "print(df)"
   ]
  },
  {
   "cell_type": "markdown",
   "metadata": {},
   "source": [
    "### Pandas DataFrame Using Python List\n"
   ]
  },
  {
   "cell_type": "code",
   "execution_count": 13,
   "metadata": {},
   "outputs": [
    {
     "name": "stdout",
     "output_type": "stream",
     "text": [
      "    Name  Age      City\n",
      "0   John   25  New York\n",
      "1  Alice   30    London\n",
      "2    Bob   35     Paris\n"
     ]
    }
   ],
   "source": [
    "import pandas as pd\n",
    "\n",
    "# create a two-dimensional list\n",
    "data = [['John', 25, 'New York'],\n",
    "       ['Alice', 30, 'London'],\n",
    "       ['Bob', 35, 'Paris']]\n",
    "\n",
    "# create a DataFrame from the list\n",
    "df = pd.DataFrame(data, columns=['Name', 'Age', 'City'])\n",
    "\n",
    "print(df)"
   ]
  },
  {
   "cell_type": "markdown",
   "metadata": {},
   "source": [
    "### Pandas DataFrame From a File\n"
   ]
  },
  {
   "cell_type": "code",
   "execution_count": 15,
   "metadata": {},
   "outputs": [
    {
     "name": "stdout",
     "output_type": "stream",
     "text": [
      "       Name   Age         City\n",
      "0     John       25   New York\n",
      "1     Alice      30     London\n",
      "2     Bob        35      Paris\n"
     ]
    }
   ],
   "source": [
    "import pandas as pd\n",
    "\n",
    "# load data from a CSV file\n",
    "df = pd.read_csv('data.csv')\n",
    "\n",
    "print(df)"
   ]
  },
  {
   "cell_type": "markdown",
   "metadata": {},
   "source": [
    "### Create an Empty DataFrame\n"
   ]
  },
  {
   "cell_type": "code",
   "execution_count": 16,
   "metadata": {},
   "outputs": [
    {
     "name": "stdout",
     "output_type": "stream",
     "text": [
      "Empty DataFrame\n",
      "Columns: []\n",
      "Index: []\n"
     ]
    }
   ],
   "source": [
    "\n",
    "\n"
   ]
  },
  {
   "cell_type": "markdown",
   "metadata": {},
   "source": [
    "### Pandas Index\n"
   ]
  },
  {
   "cell_type": "markdown",
   "metadata": {},
   "source": [
    "### Create Indexes in Pandas \n",
    "\n",
    "Default Index\n",
    "\n",
    "Setting Index\n",
    "\n",
    "Creating a Range Index"
   ]
  },
  {
   "cell_type": "markdown",
   "metadata": {},
   "source": [
    "### Default Index\n",
    " "
   ]
  },
  {
   "cell_type": "code",
   "execution_count": 20,
   "metadata": {},
   "outputs": [
    {
     "name": "stdout",
     "output_type": "stream",
     "text": [
      "    Name  Age      City\n",
      "0   John   25  New York\n",
      "1  Alice   28    London\n",
      "2    Bob   32     Paris\n"
     ]
    }
   ],
   "source": [
    "import pandas as pd\n",
    "\n",
    "data = {'Name': ['John', 'Alice', 'Bob'],\n",
    "        'Age': [25, 28, 32],\n",
    "        'City': ['New York', 'London', 'Paris']}\n",
    "\n",
    "df = pd.DataFrame(data)\n",
    "print(df)"
   ]
  },
  {
   "cell_type": "markdown",
   "metadata": {},
   "source": [
    "### Setting Index\n"
   ]
  },
  {
   "cell_type": "code",
   "execution_count": 21,
   "metadata": {},
   "outputs": [
    {
     "name": "stdout",
     "output_type": "stream",
     "text": [
      "       Age      City\n",
      "Name                \n",
      "John    25  New York\n",
      "Alice   28    London\n",
      "Bob     32     Paris\n"
     ]
    }
   ],
   "source": [
    "import pandas as pd\n",
    "\n",
    "# create dataframe\n",
    "data = {'Name': ['John', 'Alice', 'Bob'],\n",
    "        'Age': [25, 28, 32],\n",
    "        'City': ['New York', 'London', 'Paris']}\n",
    "\n",
    "df = pd.DataFrame(data)\n",
    "\n",
    "# set the 'Name' column as index\n",
    "df.set_index('Name', inplace=True)\n",
    "\n",
    "print(df)"
   ]
  },
  {
   "cell_type": "markdown",
   "metadata": {},
   "source": [
    "### Creating a Range Index\n"
   ]
  },
  {
   "cell_type": "code",
   "execution_count": 20,
   "metadata": {},
   "outputs": [
    {
     "name": "stdout",
     "output_type": "stream",
     "text": [
      "        Name  Age      City\n",
      "Index                      \n",
      "5       John   25  New York\n",
      "6      Alice   28    London\n",
      "7        Bob   32     Paris\n"
     ]
    }
   ],
   "source": [
    "import pandas as pd\n",
    "\n",
    "# create dataframe\n",
    "data = {'Name': ['John', 'Alice', 'Bob'],\n",
    "        'Age': [25, 28, 32],\n",
    "        'City': ['New York', 'London', 'Paris']}\n",
    "\n",
    "df = pd.DataFrame(data)\n",
    "\n",
    "# create a range index\n",
    "df = pd.DataFrame(data, index=pd.RangeIndex(5, 8, name='Index'))\n",
    "\n",
    "print(df)"
   ]
  },
  {
   "cell_type": "markdown",
   "metadata": {},
   "source": [
    "### Modifying Indexes in Pandas\n",
    " "
   ]
  },
  {
   "cell_type": "markdown",
   "metadata": {},
   "source": [
    "### Renaming Index\n",
    "\n",
    "We can rename an index using the rename() method."
   ]
  },
  {
   "cell_type": "code",
   "execution_count": 21,
   "metadata": {},
   "outputs": [
    {
     "name": "stdout",
     "output_type": "stream",
     "text": [
      "Original DataFrame:\n",
      "    Name  Age      City\n",
      "0   John   25  New York\n",
      "1  Alice   28    London\n",
      "2    Bob   32     Paris\n",
      "\n",
      "Modified DataFrame\n",
      "    Name  Age      City\n",
      "A   John   25  New York\n",
      "B  Alice   28    London\n",
      "C    Bob   32     Paris\n"
     ]
    }
   ],
   "source": [
    "import pandas as pd\n",
    "\n",
    "# create a dataframe\n",
    "data = {'Name': ['John', 'Alice', 'Bob'],\n",
    "        'Age': [25, 28, 32],\n",
    "        'City': ['New York', 'London', 'Paris']}\n",
    "df = pd.DataFrame(data)\n",
    "\n",
    "# display original dataframe\n",
    "print('Original DataFrame:')\n",
    "print(df)\n",
    "print()\n",
    "\n",
    "# rename index\n",
    "df.rename(index={0: 'A', 1: 'B', 2: 'C'}, inplace=True)\n",
    "\n",
    "# display dataframe after index is renamed\n",
    "print('Modified DataFrame')\n",
    "print(df)"
   ]
  },
  {
   "cell_type": "markdown",
   "metadata": {},
   "source": [
    "### Resetting Index\n"
   ]
  },
  {
   "cell_type": "code",
   "execution_count": 22,
   "metadata": {},
   "outputs": [
    {
     "name": "stdout",
     "output_type": "stream",
     "text": [
      "Original DataFrame:\n",
      "    Name  Age      City\n",
      "A   John   25  New York\n",
      "B  Alice   28    London\n",
      "C    Bob   32     Paris\n",
      "\n",
      "\n",
      "Modified DataFrame:\n",
      "  index   Name  Age      City\n",
      "0     A   John   25  New York\n",
      "1     B  Alice   28    London\n",
      "2     C    Bob   32     Paris\n"
     ]
    }
   ],
   "source": [
    "import pandas as pd\n",
    "\n",
    "data = {'Name': ['John', 'Alice', 'Bob'],\n",
    "        'Age': [25, 28, 32],\n",
    "        'City': ['New York', 'London', 'Paris']}\n",
    "\n",
    "# create a dataframe\n",
    "df = pd.DataFrame(data)\n",
    "\n",
    "# rename index\n",
    "df.rename(index={0: 'A', 1: 'B', 2: 'C'}, inplace=True)\n",
    "\n",
    "# display dataframe\n",
    "print('Original DataFrame:')\n",
    "print(df)\n",
    "print('\\n')\n",
    "\n",
    "# reset index\n",
    "df.reset_index(inplace=True)\n",
    "\n",
    "# display dataframe after index is reset\n",
    "print('Modified DataFrame:')\n",
    "print(df)"
   ]
  },
  {
   "cell_type": "markdown",
   "metadata": {},
   "source": [
    "### Access Rows by Index"
   ]
  },
  {
   "cell_type": "code",
   "execution_count": 24,
   "metadata": {},
   "outputs": [
    {
     "name": "stdout",
     "output_type": "stream",
     "text": [
      "Name      Bob\n",
      "Age        32\n",
      "City    Paris\n",
      "Name: 2, dtype: object\n"
     ]
    }
   ],
   "source": [
    "import pandas as pd\n",
    "\n",
    "# create a dataframe\n",
    "data = {'Name': ['John', 'Alice', 'Bob'],\n",
    "        'Age': [25, 28, 32],\n",
    "        'City': ['New York', 'London', 'Paris']}\n",
    "\n",
    "df = pd.DataFrame(data)\n",
    "\n",
    "second_row = df.iloc[2]\n",
    "\n",
    "print(second_row)"
   ]
  },
  {
   "cell_type": "markdown",
   "metadata": {},
   "source": [
    "### Get DataFrame Index"
   ]
  },
  {
   "cell_type": "code",
   "execution_count": 27,
   "metadata": {},
   "outputs": [
    {
     "name": "stdout",
     "output_type": "stream",
     "text": [
      "RangeIndex(start=0, stop=3, step=1)\n",
      "[0 1 2]\n"
     ]
    }
   ],
   "source": [
    "import pandas as pd\n",
    "\n",
    "# create a dataframe\n",
    "data = {'Name': ['John', 'Alice', 'Bob'],\n",
    "        'Age': [25, 28, 32],\n",
    "        'City': ['New York', 'London', 'Paris']}\n",
    "\n",
    "df = pd.DataFrame(data)\n",
    "\n",
    "# return index object\n",
    "print(df.index)\n",
    "\n",
    "# return index values\n",
    "print(df.index.values)"
   ]
  },
  {
   "cell_type": "markdown",
   "metadata": {},
   "source": [
    "### Pandas Array "
   ]
  },
  {
   "cell_type": "markdown",
   "metadata": {},
   "source": [
    "### Create Array Using Python List"
   ]
  },
  {
   "cell_type": "code",
   "execution_count": 28,
   "metadata": {},
   "outputs": [
    {
     "name": "stdout",
     "output_type": "stream",
     "text": [
      "<IntegerArray>\n",
      "[2, 4, 6, 8]\n",
      "Length: 4, dtype: Int64\n"
     ]
    }
   ],
   "source": [
    "import pandas as pd\n",
    "\n",
    "# create a list named data\n",
    "data = [2, 4, 6, 8]\n",
    "\n",
    "# create Pandas array using data\n",
    "array1 = pd.array(data)\n",
    "\n",
    "print(array1)"
   ]
  },
  {
   "cell_type": "code",
   "execution_count": 28,
   "metadata": {},
   "outputs": [
    {
     "name": "stdout",
     "output_type": "stream",
     "text": [
      "<IntegerArray>\n",
      "[2, 4, 6, 8]\n",
      "Length: 4, dtype: Int64\n"
     ]
    }
   ],
   "source": [
    "import pandas as pd\n",
    "\n",
    "# create Pandas array by passing list directly\n",
    "array1 = pd.array([2, 4, 6, 8])\n",
    "\n",
    "print(array1)"
   ]
  },
  {
   "cell_type": "markdown",
   "metadata": {},
   "source": [
    "### Explicitly Specify Array Elements Data Type "
   ]
  },
  {
   "cell_type": "code",
   "execution_count": 29,
   "metadata": {},
   "outputs": [
    {
     "name": "stdout",
     "output_type": "stream",
     "text": [
      "<NumpyExtensionArray>\n",
      "[1, 2, 3, 4, 5]\n",
      "Length: 5, dtype: int32\n",
      "\n",
      "<NumpyExtensionArray>\n",
      "[1.1, 2.2, 3.3, 4.4, 5.5]\n",
      "Length: 5, dtype: float64\n",
      "\n",
      "<NumpyExtensionArray>\n",
      "['apple', 'banana', 'cherry', 'date']\n",
      "Length: 4, dtype: str192\n",
      "\n",
      "<NumpyExtensionArray>\n",
      "[True, False, True, False]\n",
      "Length: 4, dtype: bool\n",
      "\n"
     ]
    }
   ],
   "source": [
    "import pandas as pd\n",
    "\n",
    "# creating a pandas.array of integers\n",
    "int_array = pd.array([1, 2, 3, 4, 5], dtype='int')\n",
    "print(int_array)\n",
    "print()\n",
    "\n",
    "# creating a pandas.array of floating-point numbers\n",
    "float_array = pd.array([1.1, 2.2, 3.3, 4.4, 5.5], dtype='float')\n",
    "print(float_array)\n",
    "print()\n",
    "\n",
    "# creating a pandas.array of strings\n",
    "string_array = pd.array(['apple', 'banana', 'cherry', 'date'], dtype='str')\n",
    "print(string_array)\n",
    "print()\n",
    "\n",
    "# creating a pandas.array of boolean values\n",
    "bool_array = pd.array([True, False, True, False], dtype='bool')\n",
    "print(bool_array)\n",
    "print()"
   ]
  },
  {
   "cell_type": "markdown",
   "metadata": {},
   "source": [
    "### Create Series From Pandas Array\n",
    " "
   ]
  },
  {
   "cell_type": "code",
   "execution_count": 31,
   "metadata": {},
   "outputs": [
    {
     "name": "stdout",
     "output_type": "stream",
     "text": [
      "0    12\n",
      "1    13\n",
      "2    14\n",
      "3    15\n",
      "4    16\n",
      "5    17\n",
      "6    18\n",
      "dtype: Int64\n"
     ]
    }
   ],
   "source": [
    "import pandas as pd\n",
    "\n",
    "\n",
    "arr= pd.array([12,13,14,15,16,17,18])\n",
    "\n",
    "arrr_ser = pd.Series(arr)\n",
    "print(arrr_ser)"
   ]
  }
 ],
 "metadata": {
  "kernelspec": {
   "display_name": "Python 3",
   "language": "python",
   "name": "python3"
  },
  "language_info": {
   "codemirror_mode": {
    "name": "ipython",
    "version": 3
   },
   "file_extension": ".py",
   "mimetype": "text/x-python",
   "name": "python",
   "nbconvert_exporter": "python",
   "pygments_lexer": "ipython3",
   "version": "3.12.3"
  }
 },
 "nbformat": 4,
 "nbformat_minor": 2
}
