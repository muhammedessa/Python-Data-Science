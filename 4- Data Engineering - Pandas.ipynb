{
 "cells": [
  {
   "cell_type": "markdown",
   "metadata": {},
   "source": [
    "### Pandas CSV\n"
   ]
  },
  {
   "cell_type": "markdown",
   "metadata": {},
   "source": [
    "### Read CSV Files "
   ]
  },
  {
   "cell_type": "code",
   "execution_count": 2,
   "metadata": {},
   "outputs": [
    {
     "name": "stdout",
     "output_type": "stream",
     "text": [
      "   Employee ID First Name Last Name Department     Position  Salary\n",
      "0          101       John       Doe  Marketing      Manager   50000\n",
      "1          102       Jane     Smith      Sales    Associate   35000\n",
      "2          103    Michael   Johnson    Finance      Analyst   45000\n",
      "3          104      Emily  Williams         HR  Coordinator   40000\n"
     ]
    }
   ],
   "source": [
    "import pandas as pd\n",
    "\n",
    "# read csv file\n",
    "df = pd.read_csv('data2.csv', header = 0)\n",
    "\n",
    "print(df)\n",
    "\n",
    "#Here, header = 0 sets the first row as the header of the dataframe.\n",
    "\n"
   ]
  },
  {
   "cell_type": "markdown",
   "metadata": {},
   "source": [
    "### read_csv() With Arguments"
   ]
  },
  {
   "cell_type": "code",
   "execution_count": 4,
   "metadata": {},
   "outputs": [
    {
     "name": "stdout",
     "output_type": "stream",
     "text": [
      "                         col1         col2   col3\n",
      "102 Jane    Smith       Sales    Associate  35000\n",
      "103 Michael Johnson   Finance      Analyst  45000\n",
      "104 Emily   Williams       HR  Coordinator  40000\n"
     ]
    }
   ],
   "source": [
    "import pandas as pd\n",
    "\n",
    "# read csv file with some arguments\n",
    "df = pd.read_csv('data2.csv', header = None, names = ['col1', 'col2', 'col3'], skiprows = 2)\n",
    "\n",
    "print(df)"
   ]
  },
  {
   "cell_type": "markdown",
   "metadata": {},
   "source": [
    "### Write to CSV Files "
   ]
  },
  {
   "cell_type": "code",
   "execution_count": 5,
   "metadata": {},
   "outputs": [],
   "source": [
    "import pandas as pd\n",
    "\n",
    "# create a dictionary\n",
    "data = {'Name': ['John', 'Alice', 'Bob'],\n",
    "        'Age': [25, 30, 35],\n",
    "        'City': ['New York', 'London', 'Paris']}\n",
    "\n",
    "# create a dataframe from the dictionary\n",
    "df = pd.DataFrame(data)\n",
    "\n",
    "# write dataframe to csv file\n",
    "df.to_csv('output.csv', index=False)"
   ]
  },
  {
   "cell_type": "markdown",
   "metadata": {},
   "source": [
    "### to_csv() With Arguments"
   ]
  },
  {
   "cell_type": "code",
   "execution_count": 8,
   "metadata": {},
   "outputs": [],
   "source": [
    "import pandas as pd\n",
    "\n",
    "# create dataframe\n",
    "data = {'Name': ['Tom', 'Nick', 'John', 'Tom'],\n",
    "        'Age': [20, 21, 19, 18],\n",
    "        'City': ['New York', 'London', 'Paris', 'Berlin']}\n",
    "df = pd.DataFrame(data)\n",
    "\n",
    "# write to csv file\n",
    "df.to_csv('output.csv', sep = ';', index = False, header = True)"
   ]
  },
  {
   "cell_type": "markdown",
   "metadata": {},
   "source": [
    "### Pandas JSON\n"
   ]
  },
  {
   "cell_type": "markdown",
   "metadata": {},
   "source": [
    "### Read JSON in Pandas\n",
    " "
   ]
  },
  {
   "cell_type": "code",
   "execution_count": 9,
   "metadata": {},
   "outputs": [
    {
     "name": "stdout",
     "output_type": "stream",
     "text": [
      "    name  age           city\n",
      "0   John   30       New York\n",
      "1  Emily   28  San Francisco\n",
      "2  David   35        Chicago\n"
     ]
    }
   ],
   "source": [
    "import pandas as pd\n",
    "\n",
    "df = pd.read_json('data.json')\n",
    "\n",
    "print(df)"
   ]
  },
  {
   "cell_type": "markdown",
   "metadata": {},
   "source": [
    "### Write JSON in Pandas\n",
    " "
   ]
  },
  {
   "cell_type": "code",
   "execution_count": 11,
   "metadata": {},
   "outputs": [],
   "source": [
    "import pandas as pd\n",
    "\n",
    "# create a dictionary\n",
    "data = {'Name': ['John', 'Alice', 'Bob'],\n",
    "        'Age': [25, 30, 35],\n",
    "        'City': ['New York', 'London', 'Paris']}\n",
    "\n",
    "# create a dataframe from the dictionary\n",
    "df = pd.DataFrame(data)\n",
    "\n",
    "# write dataframe to json file\n",
    "df.to_json('output.json')"
   ]
  },
  {
   "cell_type": "markdown",
   "metadata": {},
   "source": [
    "### Write JSON\n",
    " "
   ]
  },
  {
   "cell_type": "code",
   "execution_count": 12,
   "metadata": {},
   "outputs": [],
   "source": [
    "import pandas as pd\n",
    "\n",
    "# create a dictionary\n",
    "data = {'Name': ['John', 'Alice', 'Bob'],\n",
    "             'Age': [25, 30, 35],\n",
    "             'City': ['New York', 'London', 'Paris']}\n",
    "\n",
    "# create a dataframe from the dictionary\n",
    "df = pd.DataFrame(data)\n",
    "\n",
    "# write dataframe to json file\n",
    "df.to_json('output.json', orient = 'records', indent = 4)"
   ]
  },
  {
   "cell_type": "markdown",
   "metadata": {},
   "source": [
    "### Pandas Read Text File\n",
    " "
   ]
  },
  {
   "cell_type": "markdown",
   "metadata": {},
   "source": [
    "### Read Text Using read_fwf()\n",
    "\n",
    "The acronym fwf in the read_fwf() function in Pandas stands for fixed-width lines, and it is used to load DataFrames from files such as text files."
   ]
  },
  {
   "cell_type": "markdown",
   "metadata": {},
   "source": [
    "### read_fwf()"
   ]
  },
  {
   "cell_type": "code",
   "execution_count": 13,
   "metadata": {},
   "outputs": [
    {
     "name": "stdout",
     "output_type": "stream",
     "text": [
      "    Name  Age  Height\n",
      "0   John   25      70\n",
      "1  Alice   28      65\n",
      "2    Bob   30      80\n"
     ]
    }
   ],
   "source": [
    "import pandas as pd\n",
    "\n",
    "# read the fixed-width file\n",
    "df = pd.read_fwf('data.txt', colspecs=[(0, 5), (6, 10), (11, 15)], names = ['Name', 'Age', 'Height'])\n",
    "\n",
    "print(df)"
   ]
  },
  {
   "cell_type": "markdown",
   "metadata": {},
   "source": [
    "### Read Text Using read_table()"
   ]
  },
  {
   "cell_type": "code",
   "execution_count": 15,
   "metadata": {},
   "outputs": [
    {
     "name": "stdout",
     "output_type": "stream",
     "text": [
      "    Name  Age  Height\n",
      "0   John   25     170\n",
      "1  Alice   28     165\n",
      "2    Bob   30     180\n"
     ]
    }
   ],
   "source": [
    "import pandas as pd\n",
    "\n",
    "# read the file using read_table()\n",
    "df = pd.read_table(\"data.txt\", sep=\"\\\\s+\", names=['Name', 'Age', 'Height'])\n",
    "\n",
    "print(df)"
   ]
  },
  {
   "cell_type": "markdown",
   "metadata": {},
   "source": [
    "### Read Text Using read_csv()\n",
    " "
   ]
  },
  {
   "cell_type": "markdown",
   "metadata": {},
   "source": [
    "### read_csv()"
   ]
  },
  {
   "cell_type": "code",
   "execution_count": 17,
   "metadata": {},
   "outputs": [
    {
     "name": "stdout",
     "output_type": "stream",
     "text": [
      "    Name  Age  Height\n",
      "0   John   25     170\n",
      "1  Alice   28     165\n",
      "2    Bob   30     180\n"
     ]
    }
   ],
   "source": [
    "import pandas as pd\n",
    "\n",
    "# read the file using read_table()\n",
    "df = pd.read_csv(\"data.txt\", sep=\"\\\\s+\", header = None, names=['Name', 'Age', 'Height'])\n",
    "\n",
    "print(df)"
   ]
  },
  {
   "cell_type": "markdown",
   "metadata": {},
   "source": [
    "### Pandas Merge\n",
    " "
   ]
  },
  {
   "cell_type": "code",
   "execution_count": 18,
   "metadata": {},
   "outputs": [
    {
     "name": "stdout",
     "output_type": "stream",
     "text": [
      "Employees:\n",
      "  EmployeeID         Name DeptID\n",
      "0       E001     John Doe   D001\n",
      "1       E002   Jane Smith   D003\n",
      "2       E003  Peter Brown   D001\n",
      "3       E004  Tom Johnson   D002\n",
      "4       E005   Rita Patel   D003\n",
      "\n",
      "Departments:\n",
      "  DeptID DeptName\n",
      "0   D001    Sales\n",
      "1   D002       HR\n",
      "2   D003    Admin\n",
      "\n",
      "Merged DataFrame:\n",
      "  EmployeeID         Name DeptID DeptName\n",
      "0       E001     John Doe   D001    Sales\n",
      "1       E002   Jane Smith   D003    Admin\n",
      "2       E003  Peter Brown   D001    Sales\n",
      "3       E004  Tom Johnson   D002       HR\n",
      "4       E005   Rita Patel   D003    Admin\n"
     ]
    }
   ],
   "source": [
    "import pandas as pd\n",
    "\n",
    "# create dataframes from the dictionaries\n",
    "data1 = {\n",
    "    'EmployeeID' : ['E001', 'E002', 'E003', 'E004', 'E005'],\n",
    "    'Name' : ['John Doe', 'Jane Smith', 'Peter Brown', 'Tom Johnson', 'Rita Patel'],\n",
    "    'DeptID': ['D001', 'D003', 'D001', 'D002', 'D003'],\n",
    "}\n",
    "employees = pd.DataFrame(data1)\n",
    "\n",
    "data2 = {\n",
    "    'DeptID': ['D001', 'D002', 'D003'],\n",
    "    'DeptName': ['Sales', 'HR', 'Admin']\n",
    "}\n",
    "departments = pd.DataFrame(data2)\n",
    "\n",
    "# merge dataframes employees and departments\n",
    "merged_df = pd.merge(employees, departments)\n",
    "\n",
    "# display DataFrames\n",
    "print(\"Employees:\")\n",
    "print(employees)\n",
    "print()\n",
    "print(\"Departments:\")\n",
    "print(departments)\n",
    "print()\n",
    "print(\"Merged DataFrame:\")\n",
    "print(merged_df)"
   ]
  },
  {
   "cell_type": "markdown",
   "metadata": {},
   "source": [
    "### Merge DataFrames Based on Keys"
   ]
  },
  {
   "cell_type": "code",
   "execution_count": 19,
   "metadata": {},
   "outputs": [
    {
     "name": "stdout",
     "output_type": "stream",
     "text": [
      "  EmployeeID         Name DeptID1 DeptID2 DeptName\n",
      "0       E001     John Doe    D001    D001    Sales\n",
      "1       E003  Peter Brown    D001    D001    Sales\n",
      "2       E004  Tom Johnson    D002    D002       HR\n",
      "3       E002   Jane Smith    D003    D003    Admin\n"
     ]
    }
   ],
   "source": [
    "import pandas as pd\n",
    "\n",
    "# create dataframes from the dictionaries\n",
    "data1 = {\n",
    "    'EmployeeID': ['E001', 'E002', 'E003', 'E004', 'E005'],\n",
    "    'Name': ['John Doe', 'Jane Smith', 'Peter Brown', 'Tom Johnson', 'Rita Patel'],\n",
    "    'DeptID1': ['D001', 'D003', 'D001', 'D002', 'D006'],\n",
    "}\n",
    "employees = pd.DataFrame(data1)\n",
    "\n",
    "data2 = {\n",
    "    'DeptID2': ['D001', 'D002', 'D003', 'D004'],\n",
    "    'DeptName': ['Sales', 'HR', 'Admin', 'Marketing']\n",
    "}\n",
    "departments = pd.DataFrame(data2)\n",
    "\n",
    "# merge the dataframes\n",
    "df_merge = pd.merge(employees, departments, left_on='DeptID1', right_on = 'DeptID2', sort = True)\n",
    "\n",
    "print(df_merge)"
   ]
  },
  {
   "cell_type": "markdown",
   "metadata": {},
   "source": [
    "### Types of Join Operations In merge()\n",
    " \n",
    "\n",
    "Left Join\n",
    "\n",
    "Right Join\n",
    "\n",
    "Outer Join\n",
    "\n",
    "Inner Join (Default)\n",
    "\n",
    "Cross Join\n"
   ]
  },
  {
   "cell_type": "markdown",
   "metadata": {},
   "source": [
    "### Left Join\n",
    " "
   ]
  },
  {
   "cell_type": "code",
   "execution_count": 20,
   "metadata": {},
   "outputs": [
    {
     "name": "stdout",
     "output_type": "stream",
     "text": [
      "  EmployeeID         Name DeptID DeptName\n",
      "0       E001     John Doe   D001    Sales\n",
      "1       E003  Peter Brown   D001    Sales\n",
      "2       E004  Tom Johnson   D002       HR\n",
      "3       E002   Jane Smith   D003    Admin\n",
      "4       E005   Rita Patel   D006      NaN\n"
     ]
    }
   ],
   "source": [
    "import pandas as pd\n",
    "\n",
    "# create dataframes from the dictionaries\n",
    "data1 = {\n",
    "    'EmployeeID': ['E001', 'E002', 'E003', 'E004', 'E005'],\n",
    "    'Name': ['John Doe', 'Jane Smith', 'Peter Brown', 'Tom Johnson', 'Rita Patel'],\n",
    "    'DeptID': ['D001', 'D003', 'D001', 'D002', 'D006'],\n",
    "}\n",
    "employees = pd.DataFrame(data1)\n",
    "\n",
    "data2 = {\n",
    "    'DeptID': ['D001', 'D002', 'D003', 'D004'],\n",
    "    'DeptName': ['Sales', 'HR', 'Admin', 'Marketing']\n",
    "}\n",
    "departments = pd.DataFrame(data2)\n",
    "\n",
    "# left merge the dataframes\n",
    "df_merge = pd.merge(employees, departments, on = 'DeptID', how = 'left', sort = True)\n",
    "\n",
    "print(df_merge)"
   ]
  },
  {
   "cell_type": "markdown",
   "metadata": {},
   "source": [
    "### Right Join "
   ]
  },
  {
   "cell_type": "code",
   "execution_count": 21,
   "metadata": {},
   "outputs": [
    {
     "name": "stdout",
     "output_type": "stream",
     "text": [
      "  EmployeeID         Name DeptID   DeptName\n",
      "0       E001     John Doe   D001      Sales\n",
      "1       E003  Peter Brown   D001      Sales\n",
      "2       E004  Tom Johnson   D002         HR\n",
      "3       E002   Jane Smith   D003      Admin\n",
      "4        NaN          NaN   D004  Marketing\n"
     ]
    }
   ],
   "source": [
    "import pandas as pd\n",
    "\n",
    "# create dataframes from the dictionaries\n",
    "data1 = {\n",
    "    'EmployeeID': ['E001', 'E002', 'E003', 'E004', 'E005'],\n",
    "    'Name': ['John Doe', 'Jane Smith', 'Peter Brown', 'Tom Johnson', 'Rita Patel'],\n",
    "    'DeptID': ['D001', 'D003', 'D001', 'D002', 'D006'],\n",
    "}\n",
    "employees = pd.DataFrame(data1)\n",
    "\n",
    "data2 = {\n",
    "    'DeptID': ['D001', 'D002', 'D003', 'D004'],\n",
    "    'DeptName': ['Sales', 'HR', 'Admin', 'Marketing']\n",
    "}\n",
    "departments = pd.DataFrame(data2)\n",
    "\n",
    "# right merge the dataframes\n",
    "df_merge = pd.merge(employees, departments, on = 'DeptID', how = 'right', sort = True)\n",
    "\n",
    "print(df_merge)"
   ]
  },
  {
   "cell_type": "markdown",
   "metadata": {},
   "source": [
    "\n",
    "### Inner Join\n",
    " "
   ]
  },
  {
   "cell_type": "code",
   "execution_count": 22,
   "metadata": {},
   "outputs": [
    {
     "name": "stdout",
     "output_type": "stream",
     "text": [
      "  EmployeeID         Name DeptID DeptName\n",
      "0       E001     John Doe   D001    Sales\n",
      "1       E003  Peter Brown   D001    Sales\n",
      "2       E004  Tom Johnson   D002       HR\n",
      "3       E002   Jane Smith   D003    Admin\n"
     ]
    }
   ],
   "source": [
    "import pandas as pd\n",
    "\n",
    "# create dataframes from the dictionaries\n",
    "data1 = {\n",
    "    'EmployeeID': ['E001', 'E002', 'E003', 'E004', 'E005'],\n",
    "    'Name': ['John Doe', 'Jane Smith', 'Peter Brown', 'Tom Johnson', 'Rita Patel'],\n",
    "    'DeptID': ['D001', 'D003', 'D001', 'D002', 'D006'],\n",
    "}\n",
    "employees = pd.DataFrame(data1)\n",
    "\n",
    "data2 = {\n",
    "    'DeptID': ['D001', 'D002', 'D003', 'D004'],\n",
    "    'DeptName': ['Sales', 'HR', 'Admin', 'Marketing']\n",
    "}\n",
    "departments = pd.DataFrame(data2)\n",
    "\n",
    "# inner merge the dataframes\n",
    "df_merge = pd.merge(employees, departments, on = 'DeptID', how = 'inner', sort = True)\n",
    "\n",
    "print(df_merge)"
   ]
  },
  {
   "cell_type": "markdown",
   "metadata": {},
   "source": [
    "### Outer Join\n",
    " "
   ]
  },
  {
   "cell_type": "code",
   "execution_count": 23,
   "metadata": {},
   "outputs": [
    {
     "name": "stdout",
     "output_type": "stream",
     "text": [
      "  EmployeeID         Name DeptID   DeptName\n",
      "0       E001     John Doe   D001      Sales\n",
      "1       E003  Peter Brown   D001      Sales\n",
      "2       E004  Tom Johnson   D002         HR\n",
      "3       E002   Jane Smith   D003      Admin\n",
      "4        NaN          NaN   D004  Marketing\n",
      "5       E005   Rita Patel   D006        NaN\n"
     ]
    }
   ],
   "source": [
    "import pandas as pd\n",
    "\n",
    "# create dataframes from the dictionaries\n",
    "data1 = {\n",
    "    'EmployeeID': ['E001', 'E002', 'E003', 'E004', 'E005'],\n",
    "    'Name': ['John Doe', 'Jane Smith', 'Peter Brown', 'Tom Johnson', 'Rita Patel'],\n",
    "    'DeptID': ['D001', 'D003', 'D001', 'D002', 'D006'],\n",
    "}\n",
    "employees = pd.DataFrame(data1)\n",
    "\n",
    "data2 = {\n",
    "    'DeptID': ['D001', 'D002', 'D003', 'D004'],\n",
    "    'DeptName': ['Sales', 'HR', 'Admin', 'Marketing']\n",
    "}\n",
    "departments = pd.DataFrame(data2)\n",
    "\n",
    "# outer merge the dataframes\n",
    "df_merge = pd.merge(employees, departments, on = 'DeptID', how = 'outer', sort = True)\n",
    "\n",
    "print(df_merge)"
   ]
  },
  {
   "cell_type": "markdown",
   "metadata": {},
   "source": [
    "### Cross Join\n",
    " "
   ]
  },
  {
   "cell_type": "code",
   "execution_count": 24,
   "metadata": {},
   "outputs": [
    {
     "name": "stdout",
     "output_type": "stream",
     "text": [
      "   EmployeeID         Name DeptID_x DeptID_y   DeptName\n",
      "0        E001     John Doe     D001     D001      Sales\n",
      "1        E001     John Doe     D001     D002         HR\n",
      "2        E001     John Doe     D001     D003      Admin\n",
      "3        E001     John Doe     D001     D004  Marketing\n",
      "4        E002   Jane Smith     D003     D001      Sales\n",
      "5        E002   Jane Smith     D003     D002         HR\n",
      "6        E002   Jane Smith     D003     D003      Admin\n",
      "7        E002   Jane Smith     D003     D004  Marketing\n",
      "8        E003  Peter Brown     D001     D001      Sales\n",
      "9        E003  Peter Brown     D001     D002         HR\n",
      "10       E003  Peter Brown     D001     D003      Admin\n",
      "11       E003  Peter Brown     D001     D004  Marketing\n",
      "12       E004  Tom Johnson     D002     D001      Sales\n",
      "13       E004  Tom Johnson     D002     D002         HR\n",
      "14       E004  Tom Johnson     D002     D003      Admin\n",
      "15       E004  Tom Johnson     D002     D004  Marketing\n",
      "16       E005   Rita Patel     D006     D001      Sales\n",
      "17       E005   Rita Patel     D006     D002         HR\n",
      "18       E005   Rita Patel     D006     D003      Admin\n",
      "19       E005   Rita Patel     D006     D004  Marketing\n"
     ]
    }
   ],
   "source": [
    "import pandas as pd\n",
    "\n",
    "# create dataframes from the dictionaries\n",
    "data1 = {\n",
    "    'EmployeeID': ['E001', 'E002', 'E003', 'E004', 'E005'],\n",
    "    'Name': ['John Doe', 'Jane Smith', 'Peter Brown', 'Tom Johnson', 'Rita Patel'],\n",
    "    'DeptID': ['D001', 'D003', 'D001', 'D002', 'D006'],\n",
    "}\n",
    "employees = pd.DataFrame(data1)\n",
    "\n",
    "data2 = {\n",
    "    'DeptID': ['D001', 'D002', 'D003', 'D004'],\n",
    "    'DeptName': ['Sales', 'HR', 'Admin', 'Marketing']\n",
    "}\n",
    "departments = pd.DataFrame(data2)\n",
    "\n",
    "# merge the dataframes\n",
    "df_merge = pd.merge(employees, departments, how = 'cross')\n",
    "\n",
    "print(df_merge)"
   ]
  },
  {
   "cell_type": "markdown",
   "metadata": {},
   "source": [
    "### Join vs Merge vs Concat\n",
    " "
   ]
  },
  {
   "cell_type": "markdown",
   "metadata": {},
   "source": [
    "### Pandas Join\n",
    " "
   ]
  },
  {
   "cell_type": "code",
   "execution_count": 25,
   "metadata": {},
   "outputs": [
    {
     "name": "stdout",
     "output_type": "stream",
     "text": [
      "DataFrame 1:\n",
      "      A   B\n",
      "K0  A0  B0\n",
      "K1  A1  B1\n",
      "K2  A2  B2\n",
      "K3  A3  B3\n",
      "\n",
      "DataFrame 2:\n",
      "      C   D\n",
      "K0  C0  D0\n",
      "K1  C1  D1\n",
      "K2  C2  D2\n",
      "K3  C3  D3\n",
      "\n",
      "Joined DataFrame:\n",
      "      A   B   C   D\n",
      "K0  A0  B0  C0  D0\n",
      "K1  A1  B1  C1  D1\n",
      "K2  A2  B2  C2  D2\n",
      "K3  A3  B3  C3  D3\n"
     ]
    }
   ],
   "source": [
    "import pandas as pd\n",
    "\n",
    "# create dataframe 1\n",
    "data1 = {\n",
    "    'A': ['A0', 'A1', 'A2', 'A3'],\n",
    "    'B': ['B0', 'B1', 'B2', 'B3'],\n",
    "}\n",
    "df1 = pd.DataFrame(data1, index=['K0', 'K1', 'K2', 'K3'])\n",
    "\n",
    "# create dataframe 2\n",
    "data2 = {\n",
    "    'C': ['C0', 'C1', 'C2', 'C3'],\n",
    "    'D': ['D0', 'D1', 'D2', 'D3'],\n",
    "}\n",
    "df2 = pd.DataFrame(data2, index=['K0', 'K1', 'K2', 'K3'])\n",
    "\n",
    "# join dataframes\n",
    "df_join = df1.join(df2)\n",
    "\n",
    "# display DataFrames\n",
    "print(\"DataFrame 1:\\n\", df1)\n",
    "print(\"\\nDataFrame 2:\\n\", df2)\n",
    "print(\"\\nJoined DataFrame:\\n\", df_join)"
   ]
  },
  {
   "cell_type": "markdown",
   "metadata": {},
   "source": [
    "### Join DataFrames\n",
    " "
   ]
  },
  {
   "cell_type": "code",
   "execution_count": 26,
   "metadata": {},
   "outputs": [
    {
     "name": "stdout",
     "output_type": "stream",
     "text": [
      "  EmployeeID         Name DeptID DeptName_left DeptName_right\n",
      "0       E001     John Doe   D001        Sales1         Sales2\n",
      "1       E002   Jane Smith   D003        Admin1         Admin2\n",
      "2       E003  Peter Brown   D001        Sales1         Sales2\n",
      "3       E004  Tom Johnson   D002           HR1            HR2\n",
      "4       E005   Rita Patel   D006           N/A            NaN\n"
     ]
    }
   ],
   "source": [
    "import pandas as pd\n",
    "\n",
    "# create dataframes from the dictionaries\n",
    "data1 = {\n",
    "    'EmployeeID' : ['E001', 'E002', 'E003', 'E004', 'E005'],\n",
    "    'Name' : ['John Doe', 'Jane Smith', 'Peter Brown', 'Tom Johnson', 'Rita Patel'],\n",
    "    'DeptID': ['D001', 'D003', 'D001', 'D002', 'D006'],\n",
    "    'DeptName': ['Sales1', 'Admin1', 'Sales1', 'HR1', 'N/A']\n",
    "}\n",
    "employees = pd.DataFrame(data1)\n",
    "\n",
    "data2 = {\n",
    "    'DeptID' : ['D001', 'D002', 'D003', 'D004'],\n",
    "    'DeptName' : ['Sales2', 'HR2', 'Admin2', 'Marketing2']\n",
    "}\n",
    "departments = pd.DataFrame(data2)\n",
    "\n",
    "# set DeptID as index for departments dataframe\n",
    "departments = departments.set_index('DeptID')\n",
    "\n",
    "# join the dataframes based on columns\n",
    "df_join = employees.join(departments, on = 'DeptID', lsuffix = '_left', rsuffix = '_right')\n",
    "\n",
    "print(df_join)"
   ]
  },
  {
   "cell_type": "markdown",
   "metadata": {},
   "source": [
    "### Types of Join\n",
    " \n",
    "Left Join (Default)\n",
    "\n",
    "Right Join\n",
    "\n",
    "Outer Join\n",
    "\n",
    "Inner Join\n",
    "\n",
    "Cross Join"
   ]
  },
  {
   "cell_type": "markdown",
   "metadata": {},
   "source": [
    "### Left Join\n",
    " "
   ]
  },
  {
   "cell_type": "code",
   "execution_count": 27,
   "metadata": {},
   "outputs": [
    {
     "name": "stdout",
     "output_type": "stream",
     "text": [
      "  EmployeeID         Name DeptID DeptName\n",
      "0       E001     John Doe   D001    Sales\n",
      "1       E002   Jane Smith   D003    Admin\n",
      "2       E003  Peter Brown   D001    Sales\n",
      "3       E004  Tom Johnson   D002       HR\n",
      "4       E005   Rita Patel   D005      NaN\n"
     ]
    }
   ],
   "source": [
    "import pandas as pd\n",
    "\n",
    "# create dataframes from the dictionaries\n",
    "data1 = {\n",
    "    'EmployeeID' : ['E001', 'E002', 'E003', 'E004', 'E005'],\n",
    "    'Name' : ['John Doe', 'Jane Smith', 'Peter Brown', 'Tom Johnson', 'Rita Patel'],\n",
    "    'DeptID': ['D001', 'D003', 'D001', 'D002', 'D005'],\n",
    "}\n",
    "employees = pd.DataFrame(data1)\n",
    "\n",
    "data2 = {\n",
    "    'DeptID': ['D001', 'D002', 'D003','D004'],\n",
    "    'DeptName': ['Sales', 'HR', 'Admin', 'Marketing']\n",
    "}\n",
    "departments = pd.DataFrame(data2)\n",
    "\n",
    "# set DeptID as index for departments\n",
    "departments.set_index('DeptID',inplace=True)\n",
    "\n",
    "# left join\n",
    "df_join = employees.join(departments, on = 'DeptID', how = 'left')\n",
    "\n",
    "print(df_join)"
   ]
  },
  {
   "cell_type": "markdown",
   "metadata": {},
   "source": [
    "### Right Join "
   ]
  },
  {
   "cell_type": "code",
   "execution_count": 28,
   "metadata": {},
   "outputs": [
    {
     "name": "stdout",
     "output_type": "stream",
     "text": [
      "  EmployeeID         Name DeptID   DeptName\n",
      "0       E001     John Doe   D001      Sales\n",
      "1       E003  Peter Brown   D001      Sales\n",
      "2       E004  Tom Johnson   D002         HR\n",
      "3       E002   Jane Smith   D003      Admin\n",
      "4        NaN          NaN   D004  Marketing\n"
     ]
    }
   ],
   "source": [
    "import pandas as pd\n",
    "\n",
    "# create dataframes from the dictionaries\n",
    "data1 = {\n",
    "    'EmployeeID' : ['E001', 'E002', 'E003', 'E004', 'E005'],\n",
    "    'Name' : ['John Doe', 'Jane Smith', 'Peter Brown', 'Tom Johnson', 'Rita Patel'],\n",
    "    'DeptID': ['D001', 'D003', 'D001', 'D002', 'D005'],\n",
    "}\n",
    "employees = pd.DataFrame(data1)\n",
    "\n",
    "data2 = {\n",
    "    'DeptID': ['D001', 'D002', 'D003','D004'],\n",
    "    'DeptName': ['Sales', 'HR', 'Admin', 'Marketing']\n",
    "}\n",
    "departments = pd.DataFrame(data2)\n",
    "\n",
    "# set DeptID as index for departments\n",
    "departments.set_index('DeptID', inplace=True)\n",
    "\n",
    "# right join\n",
    "df_join = employees.join(departments, on = 'DeptID', how = 'right')\n",
    "\n",
    "# reset index\n",
    "df_join.reset_index(drop=True, inplace=True)\n",
    "\n",
    "print(df_join)"
   ]
  },
  {
   "cell_type": "markdown",
   "metadata": {},
   "source": [
    "### Inner Join\n",
    " "
   ]
  },
  {
   "cell_type": "code",
   "execution_count": 29,
   "metadata": {},
   "outputs": [
    {
     "name": "stdout",
     "output_type": "stream",
     "text": [
      "  EmployeeID         Name DeptID DeptName\n",
      "0       E001     John Doe   D001    Sales\n",
      "1       E002   Jane Smith   D003    Admin\n",
      "2       E003  Peter Brown   D001    Sales\n",
      "3       E004  Tom Johnson   D002       HR\n"
     ]
    }
   ],
   "source": [
    "import pandas as pd\n",
    "\n",
    "# create dataframes from the dictionaries\n",
    "data1 = {\n",
    "    'EmployeeID' : ['E001', 'E002', 'E003', 'E004', 'E005'],\n",
    "    'Name' : ['John Doe', 'Jane Smith', 'Peter Brown', 'Tom Johnson', 'Rita Patel'],\n",
    "    'DeptID': ['D001', 'D003', 'D001', 'D002', 'D005'],\n",
    "}\n",
    "employees = pd.DataFrame(data1)\n",
    "\n",
    "data2 = {\n",
    "    'DeptID': ['D001', 'D002', 'D003','D004'],\n",
    "    'DeptName': ['Sales', 'HR', 'Admin', 'Marketing']\n",
    "}\n",
    "departments = pd.DataFrame(data2)\n",
    "\n",
    "# set DeptID as index for departments\n",
    "departments.set_index('DeptID',inplace=True)\n",
    "\n",
    "# inner join\n",
    "df_join = employees.join(departments, on = 'DeptID', how = 'inner')\n",
    "\n",
    "# reset index\n",
    "df_join.reset_index(drop=True, inplace=True)\n",
    "\n",
    "print(df_join)"
   ]
  },
  {
   "cell_type": "markdown",
   "metadata": {},
   "source": [
    "### Outer Join "
   ]
  },
  {
   "cell_type": "code",
   "execution_count": 30,
   "metadata": {},
   "outputs": [
    {
     "name": "stdout",
     "output_type": "stream",
     "text": [
      "  EmployeeID         Name DeptID   DeptName\n",
      "0       E001     John Doe   D001      Sales\n",
      "1       E003  Peter Brown   D001      Sales\n",
      "2       E004  Tom Johnson   D002         HR\n",
      "3       E002   Jane Smith   D003      Admin\n",
      "4        NaN          NaN   D004  Marketing\n",
      "5       E005   Rita Patel   D005        NaN\n"
     ]
    }
   ],
   "source": [
    "import pandas as pd\n",
    "\n",
    "# create dataframes from the dictionaries\n",
    "data1 = {\n",
    "    'EmployeeID' : ['E001', 'E002', 'E003', 'E004', 'E005'],\n",
    "    'Name' : ['John Doe', 'Jane Smith', 'Peter Brown', 'Tom Johnson', 'Rita Patel'],\n",
    "    'DeptID': ['D001', 'D003', 'D001', 'D002', 'D005'],\n",
    "}\n",
    "employees = pd.DataFrame(data1)\n",
    "\n",
    "data2 = {\n",
    "    'DeptID': ['D001', 'D002', 'D003','D004'],\n",
    "    'DeptName': ['Sales', 'HR', 'Admin', 'Marketing']\n",
    "}\n",
    "departments = pd.DataFrame(data2)\n",
    "\n",
    "# set DeptID as index for departments\n",
    "departments.set_index('DeptID',inplace=True)\n",
    "\n",
    "# outer join\n",
    "df_join = employees.join(departments, on = 'DeptID', how = 'outer')\n",
    "\n",
    "# reset index\n",
    "df_join.reset_index(drop=True, inplace=True)\n",
    "\n",
    "print(df_join)"
   ]
  },
  {
   "cell_type": "markdown",
   "metadata": {},
   "source": [
    "### Cross Join\n",
    " "
   ]
  },
  {
   "cell_type": "code",
   "execution_count": 31,
   "metadata": {},
   "outputs": [
    {
     "name": "stdout",
     "output_type": "stream",
     "text": [
      "   EmployeeID         Name DeptID   DeptName\n",
      "0        E001     John Doe   D001      Sales\n",
      "1        E001     John Doe   D001         HR\n",
      "2        E001     John Doe   D001      Admin\n",
      "3        E001     John Doe   D001  Marketing\n",
      "4        E002   Jane Smith   D003      Sales\n",
      "5        E002   Jane Smith   D003         HR\n",
      "6        E002   Jane Smith   D003      Admin\n",
      "7        E002   Jane Smith   D003  Marketing\n",
      "8        E003  Peter Brown   D001      Sales\n",
      "9        E003  Peter Brown   D001         HR\n",
      "10       E003  Peter Brown   D001      Admin\n",
      "11       E003  Peter Brown   D001  Marketing\n",
      "12       E004  Tom Johnson   D002      Sales\n",
      "13       E004  Tom Johnson   D002         HR\n",
      "14       E004  Tom Johnson   D002      Admin\n",
      "15       E004  Tom Johnson   D002  Marketing\n",
      "16       E005   Rita Patel   D005      Sales\n",
      "17       E005   Rita Patel   D005         HR\n",
      "18       E005   Rita Patel   D005      Admin\n",
      "19       E005   Rita Patel   D005  Marketing\n"
     ]
    }
   ],
   "source": [
    "import pandas as pd\n",
    "\n",
    "# create dataframes from the dictionaries\n",
    "data1 = {\n",
    "    'EmployeeID' : ['E001', 'E002', 'E003', 'E004', 'E005'],\n",
    "    'Name' : ['John Doe', 'Jane Smith', 'Peter Brown', 'Tom Johnson', 'Rita Patel'],\n",
    "    'DeptID': ['D001', 'D003', 'D001', 'D002', 'D005'],\n",
    "}\n",
    "employees = pd.DataFrame(data1)\n",
    "\n",
    "data2 = {\n",
    "    'DeptID': ['D001', 'D002', 'D003','D004'],\n",
    "    'DeptName': ['Sales', 'HR', 'Admin', 'Marketing']\n",
    "}\n",
    "departments = pd.DataFrame(data2)\n",
    "\n",
    "# set DeptID as index for departments\n",
    "departments.set_index('DeptID',inplace=True)\n",
    "\n",
    "# cross join\n",
    "df_join = employees.join(departments, how = 'cross')\n",
    "\n",
    "print(df_join)"
   ]
  },
  {
   "cell_type": "markdown",
   "metadata": {},
   "source": [
    "### Pandas Concatenation\n",
    " "
   ]
  },
  {
   "cell_type": "code",
   "execution_count": 32,
   "metadata": {},
   "outputs": [
    {
     "name": "stdout",
     "output_type": "stream",
     "text": [
      "    A   B\n",
      "0  A0  B0\n",
      "1  A1  B1\n",
      "2  A2  B2\n",
      "3  A3  B3\n"
     ]
    }
   ],
   "source": [
    "import pandas as pd\n",
    "\n",
    "# create dataframes\n",
    "df1 = pd.DataFrame({'A': ['A0', 'A1'],\n",
    "                    'B': ['B0', 'B1']},\n",
    "                    index=[0, 1])\n",
    "\n",
    "df2 = pd.DataFrame({'A': ['A2', 'A3'],\n",
    "                    'B': ['B2', 'B3']},\n",
    "                    index=[2, 3])\n",
    "\n",
    "# concatenate two dataframes\n",
    "result = pd.concat([df1, df2])\n",
    "\n",
    "print(result)"
   ]
  },
  {
   "cell_type": "markdown",
   "metadata": {},
   "source": [
    "### concat() With Arguments\n",
    "\n",
    " "
   ]
  },
  {
   "cell_type": "code",
   "execution_count": 33,
   "metadata": {},
   "outputs": [
    {
     "name": "stdout",
     "output_type": "stream",
     "text": [
      "ignore_index = True\n",
      "       Name  Age      City\n",
      "0     John   25  New York\n",
      "1    Alice   30     Paris\n",
      "2      Bob   35    London\n",
      "3    Emily   28    Berlin\n",
      "4  Michael   32     Tokyo\n",
      "5   Sophia   27    Sydney\n",
      "6     Rita   22     Delhi\n",
      "\n",
      "sort = True\n",
      "    Age      City     Name\n",
      "0   25  New York     John\n",
      "1   30     Paris    Alice\n",
      "2   35    London      Bob\n",
      "0   28    Berlin    Emily\n",
      "1   32     Tokyo  Michael\n",
      "2   27    Sydney   Sophia\n",
      "3   22     Delhi     Rita\n"
     ]
    }
   ],
   "source": [
    "import pandas as pd\n",
    "\n",
    "# create dataframes\n",
    "df1 = pd.DataFrame({'Name': ['John', 'Alice', 'Bob'],\n",
    "                    'Age': [25, 30, 35],\n",
    "                    'City': ['New York', 'Paris', 'London']})\n",
    "\n",
    "df2 = pd.DataFrame({'Name': ['Emily', 'Michael', 'Sophia', 'Rita'],\n",
    "                    'Age': [28, 32, 27, 22],\n",
    "                    'City': ['Berlin', 'Tokyo', 'Sydney', 'Delhi']})\n",
    "\n",
    "# concatenate dataframes while ignoring index\n",
    "result_ignore_index = pd.concat([df1, df2], ignore_index = True)\n",
    "\n",
    "# concatenate dataframes and sort the result\n",
    "result_sort = pd.concat([df1, df2], sort = True)\n",
    "\n",
    "# display the concatenated results\n",
    "print('ignore_index = True\\n', result_ignore_index)\n",
    "print('\\nsort = True\\n', result_sort)"
   ]
  },
  {
   "cell_type": "markdown",
   "metadata": {},
   "source": [
    "### Concatenation Along Axis 1\n",
    "\n",
    " "
   ]
  },
  {
   "cell_type": "code",
   "execution_count": 34,
   "metadata": {},
   "outputs": [
    {
     "name": "stdout",
     "output_type": "stream",
     "text": [
      "    Name   Age      City     Name  Age    City\n",
      "0   John  25.0  New York    Emily   28  Berlin\n",
      "1  Alice  30.0     Paris  Michael   32   Tokyo\n",
      "2    Bob  35.0    London   Sophia   27  Sydney\n",
      "3    NaN   NaN       NaN     Rita   22   Delhi\n"
     ]
    }
   ],
   "source": [
    "import pandas as pd\n",
    "\n",
    "# create dataframes\n",
    "df1 = pd.DataFrame({'Name': ['John', 'Alice', 'Bob'],\n",
    "                    'Age': [25, 30, 35],\n",
    "                    'City': ['New York', 'Paris', 'London']})\n",
    "\n",
    "df2 = pd.DataFrame({'Name': ['Emily', 'Michael', 'Sophia', 'Rita'],\n",
    "                    'Age': [28, 32, 27, 22],\n",
    "                    'City': ['Berlin', 'Tokyo', 'Sydney', 'Delhi']})\n",
    "\n",
    "# concatenate dataframes along axis 1\n",
    "result = pd.concat([df1, df2], axis=1)\n",
    "\n",
    "print(result)"
   ]
  },
  {
   "cell_type": "markdown",
   "metadata": {},
   "source": [
    "### Inner Join Vs Outer Join"
   ]
  },
  {
   "cell_type": "code",
   "execution_count": 35,
   "metadata": {},
   "outputs": [
    {
     "name": "stdout",
     "output_type": "stream",
     "text": [
      "Outer Join\n",
      "     Name   Age      City     Name  Age    City\n",
      "0   John  25.0  New York    Emily   28  Berlin\n",
      "1  Alice  30.0     Paris  Michael   32   Tokyo\n",
      "2    Bob  35.0    London   Sophia   27  Sydney\n",
      "3    NaN   NaN       NaN     Rita   22   Delhi\n",
      "\n",
      "Inner Join\n",
      "     Name  Age      City     Name  Age    City\n",
      "0   John   25  New York    Emily   28  Berlin\n",
      "1  Alice   30     Paris  Michael   32   Tokyo\n",
      "2    Bob   35    London   Sophia   27  Sydney\n"
     ]
    }
   ],
   "source": [
    "import pandas as pd\n",
    "\n",
    "# create dataframes\n",
    "df1 = pd.DataFrame({'Name': ['John', 'Alice', 'Bob'],\n",
    "                    'Age': [25, 30, 35],\n",
    "                    'City': ['New York', 'Paris', 'London']})\n",
    "\n",
    "df2 = pd.DataFrame({'Name': ['Emily', 'Michael', 'Sophia', 'Rita'],\n",
    "                    'Age': [28, 32, 27, 22],\n",
    "                    'City': ['Berlin', 'Tokyo', 'Sydney', 'Delhi']})\n",
    "\n",
    "\n",
    "# concatenate dataframes with outer join\n",
    "result_outer = pd.concat([df1, df2], axis = 1)\n",
    "\n",
    "# concatenate dataframes with inner join\n",
    "result_inner = pd.concat([df1, df2], axis = 1, join = 'inner')\n",
    "\n",
    "# display the concatenated results\n",
    "print('Outer Join\\n', result_outer)\n",
    "print('\\nInner Join\\n', result_inner)"
   ]
  },
  {
   "cell_type": "markdown",
   "metadata": {},
   "source": [
    "### Concatenation With Keys\n",
    " "
   ]
  },
  {
   "cell_type": "code",
   "execution_count": 36,
   "metadata": {},
   "outputs": [
    {
     "name": "stdout",
     "output_type": "stream",
     "text": [
      "               Name  Age      City\n",
      "from_df1 0     John   25  New York\n",
      "         1    Alice   30     Paris\n",
      "         2      Bob   35    London\n",
      "from_df2 0    Emily   28    Berlin\n",
      "         1  Michael   32     Tokyo\n",
      "         2   Sophia   27    Sydney\n",
      "         3     Rita   22     Delhi\n"
     ]
    }
   ],
   "source": [
    "import pandas as pd\n",
    "\n",
    "# create dataframes\n",
    "df1 = pd.DataFrame({'Name': ['John', 'Alice', 'Bob'],\n",
    "                    'Age': [25, 30, 35],\n",
    "                    'City': ['New York', 'Paris', 'London']})\n",
    "\n",
    "df2 = pd.DataFrame({'Name': ['Emily', 'Michael', 'Sophia', 'Rita'],\n",
    "                    'Age': [28, 32, 27, 22],\n",
    "                    'City': ['Berlin', 'Tokyo', 'Sydney', 'Delhi']})\n",
    "\n",
    "\n",
    "# concatenate dataframes while ignoring index\n",
    "result = pd.concat([df1, df2], keys = ['from_df1', 'from_df2'])\n",
    "\n",
    "print(result)"
   ]
  },
  {
   "cell_type": "markdown",
   "metadata": {},
   "source": [
    "### Reading Excel File using Pandas in Python"
   ]
  },
  {
   "cell_type": "code",
   "execution_count": 38,
   "metadata": {},
   "outputs": [
    {
     "name": "stdout",
     "output_type": "stream",
     "text": [
      "      Roll No.  English  Maths  Science\n",
      "0  0         1       19     13       17\n",
      "1  1         2       14     20       18\n",
      "2  2         3       15     18       19\n",
      "3  3         4       13     14       14\n",
      "4  4         5       17     16       20\n",
      "5  5         6       19     13       17\n",
      "6  6         7       14     20       18\n",
      "7  7         8       15     18       19\n",
      "8  8         9       13     14       14\n",
      "9  9        10       17     16       20\n"
     ]
    }
   ],
   "source": [
    "import pandas as pd\n",
    "\n",
    "df = pd.read_excel('data.xlsx')\n",
    "print(df)\n",
    "\n",
    "#pip install openpyxl for No module named 'openpyxl'"
   ]
  },
  {
   "cell_type": "code",
   "execution_count": 42,
   "metadata": {},
   "outputs": [
    {
     "name": "stdout",
     "output_type": "stream",
     "text": [
      "Empty DataFrame\n",
      "Columns: []\n",
      "Index: [0         1       19     13       17, 1         2       14     20       18, 2         3       15     18       19, 3         4       13     14       14, 4         5       17     16       20, 5         6       19     13       17, 6         7       14     20       18, 7         8       15     18       19, 8         9       13     14       14, 9        10       17     16       20, 0         1       2     2       2, 1         2       2     2       2, 2         3       2     2       2, 3         4       13     14       14, 4         5       17     16       20, 5         6       19     13       17, 6         7       14     20       18, 7         8       15     18       19, 8         9       13     14       14, 9        10       17     16       20]\n"
     ]
    }
   ],
   "source": [
    "import pandas as pd\n",
    " \n",
    "file = 'data.xlsx'\n",
    "sheet1 = pd.read_excel(file, \n",
    "                        sheet_name = 0, \n",
    "                        index_col = 0)\n",
    " \n",
    "sheet2 = pd.read_excel(file, \n",
    "                        sheet_name = 1, \n",
    "                        index_col = 0)\n",
    " \n",
    "# concatinating both the sheets\n",
    "newData = pd.concat([sheet1, sheet2])\n",
    "print(newData)"
   ]
  },
  {
   "cell_type": "markdown",
   "metadata": {},
   "source": [
    "### Head() and Tail() methods in Pandas\n",
    "\n",
    " "
   ]
  },
  {
   "cell_type": "code",
   "execution_count": 43,
   "metadata": {},
   "outputs": [
    {
     "name": "stdout",
     "output_type": "stream",
     "text": [
      "Empty DataFrame\n",
      "Columns: []\n",
      "Index: [0         1       19     13       17, 1         2       14     20       18, 2         3       15     18       19, 3         4       13     14       14, 4         5       17     16       20]\n",
      "Empty DataFrame\n",
      "Columns: []\n",
      "Index: [5         6       19     13       17, 6         7       14     20       18, 7         8       15     18       19, 8         9       13     14       14, 9        10       17     16       20]\n"
     ]
    }
   ],
   "source": [
    "print(newData.head())\n",
    "print(newData.tail())\n"
   ]
  },
  {
   "cell_type": "markdown",
   "metadata": {},
   "source": [
    "### Shape() method\n",
    "\n",
    " "
   ]
  },
  {
   "cell_type": "code",
   "execution_count": 44,
   "metadata": {},
   "outputs": [
    {
     "data": {
      "text/plain": [
       "(20, 0)"
      ]
     },
     "execution_count": 44,
     "metadata": {},
     "output_type": "execute_result"
    }
   ],
   "source": [
    "newData.shape\n",
    "\n",
    "\n"
   ]
  },
  {
   "cell_type": "markdown",
   "metadata": {},
   "source": [
    "## Pandas Data Cleaning"
   ]
  },
  {
   "cell_type": "markdown",
   "metadata": {},
   "source": [
    "### Drop Rows With Missing Values\n",
    " "
   ]
  },
  {
   "cell_type": "code",
   "execution_count": 45,
   "metadata": {},
   "outputs": [
    {
     "name": "stdout",
     "output_type": "stream",
     "text": [
      "Original Data:\n",
      "      A    B    C\n",
      "0  1.0  NaN  1.0\n",
      "1  2.0  2.0  2.0\n",
      "2  3.0  3.0  NaN\n",
      "3  NaN  4.0  NaN\n",
      "4  5.0  5.0  5.0\n",
      "\n",
      "Cleaned Data:\n",
      "      A    B    C\n",
      "1  2.0  2.0  2.0\n",
      "4  5.0  5.0  5.0\n"
     ]
    }
   ],
   "source": [
    "import pandas as pd\n",
    "\n",
    "# define a dictionary with sample data which includes some missing values\n",
    "data = {\n",
    "    'A': [1, 2, 3, None, 5],  \n",
    "    'B': [None, 2, 3, 4, 5],  \n",
    "    'C': [1, 2, None, None, 5]\n",
    "}\n",
    "\n",
    "df = pd.DataFrame(data)\n",
    "print(\"Original Data:\\n\",df)\n",
    "print()\n",
    "\n",
    "# use dropna() to remove rows with any missing values\n",
    "df_cleaned = df.dropna()\n",
    "\n",
    "print(\"Cleaned Data:\\n\",df_cleaned)"
   ]
  },
  {
   "cell_type": "markdown",
   "metadata": {},
   "source": [
    "### Fill Missing Values\n",
    " "
   ]
  },
  {
   "cell_type": "code",
   "execution_count": 46,
   "metadata": {},
   "outputs": [
    {
     "name": "stdout",
     "output_type": "stream",
     "text": [
      "Original Data:\n",
      "      A    B    C\n",
      "0  1.0  NaN  1.0\n",
      "1  2.0  2.0  2.0\n",
      "2  3.0  3.0  NaN\n",
      "3  NaN  4.0  NaN\n",
      "4  5.0  5.0  5.0\n",
      "\n",
      "Data after filling NaN with 0:\n",
      "      A    B    C\n",
      "0  1.0  0.0  1.0\n",
      "1  2.0  2.0  2.0\n",
      "2  3.0  3.0  0.0\n",
      "3  0.0  4.0  0.0\n",
      "4  5.0  5.0  5.0\n"
     ]
    }
   ],
   "source": [
    "import pandas as pd\n",
    "\n",
    "# define a dictionary with sample data which includes some missing values\n",
    "data = {\n",
    "    'A': [1, 2, 3, None, 5],  \n",
    "    'B': [None, 2, 3, 4, 5],  \n",
    "    'C': [1, 2, None, None, 5]\n",
    "}\n",
    "\n",
    "df = pd.DataFrame(data)\n",
    "\n",
    "print(\"Original Data:\\n\", df)\n",
    "\n",
    "# filling NaN values with 0\n",
    "df.fillna(0, inplace=True)\n",
    "\n",
    "print(\"\\nData after filling NaN with 0:\\n\", df)"
   ]
  },
  {
   "cell_type": "markdown",
   "metadata": {},
   "source": [
    "### Use Aggregate Functions to Fill Missing Values\n",
    " "
   ]
  },
  {
   "cell_type": "code",
   "execution_count": 47,
   "metadata": {},
   "outputs": [
    {
     "name": "stdout",
     "output_type": "stream",
     "text": [
      "Original Data:\n",
      "      A    B    C\n",
      "0  1.0  NaN  1.0\n",
      "1  2.0  2.0  2.0\n",
      "2  3.0  3.0  NaN\n",
      "3  NaN  4.0  NaN\n",
      "4  5.0  5.0  5.0\n",
      "\n",
      "Data after filling NaN with mean:\n",
      "       A    B         C\n",
      "0  1.00  3.5  1.000000\n",
      "1  2.00  2.0  2.000000\n",
      "2  3.00  3.0  2.666667\n",
      "3  2.75  4.0  2.666667\n",
      "4  5.00  5.0  5.000000\n"
     ]
    }
   ],
   "source": [
    "import pandas as pd\n",
    "\n",
    "# define a dictionary with sample data which includes some missing values\n",
    "data = {\n",
    "    'A': [1, 2, 3, None, 5],  \n",
    "    'B': [None, 2, 3, 4, 5],  \n",
    "    'C': [1, 2, None, None, 5]\n",
    "}\n",
    "\n",
    "df = pd.DataFrame(data)\n",
    "\n",
    "print(\"Original Data:\\n\", df)\n",
    "\n",
    "# filling NaN values with the mean of each column\n",
    "df.fillna(df.mean(), inplace=True)\n",
    "\n",
    "print(\"\\nData after filling NaN with mean:\\n\", df)"
   ]
  },
  {
   "cell_type": "markdown",
   "metadata": {},
   "source": [
    "### Handle Duplicates Values\n",
    " "
   ]
  },
  {
   "cell_type": "code",
   "execution_count": 48,
   "metadata": {},
   "outputs": [
    {
     "name": "stdout",
     "output_type": "stream",
     "text": [
      "Original DataFrame:\n",
      "  A  B\n",
      " 1  5\n",
      " 2  6\n",
      " 2  6\n",
      " 3  7\n",
      " 3  8\n",
      " 4  8\n",
      "\n",
      "Duplicate Rows:\n",
      "  A  B\n",
      " 2  6\n",
      "\n",
      "DataFrame after removing duplicates based on column 'A':\n",
      "  A  B\n",
      " 1  5\n",
      " 2  6\n",
      " 3  7\n",
      " 4  8\n"
     ]
    }
   ],
   "source": [
    "import pandas as pd\n",
    "\n",
    "# sample data\n",
    "data = {\n",
    "    'A': [1, 2, 2, 3, 3, 4],\n",
    "    'B': [5, 6, 6, 7, 8, 8]\n",
    "}\n",
    "df = pd.DataFrame(data)\n",
    "\n",
    "print(\"Original DataFrame:\\n\", df.to_string(index=False))\n",
    "\n",
    "# detect duplicates\n",
    "print(\"\\nDuplicate Rows:\\n\", df[df.duplicated()].to_string(index=False))\n",
    "\n",
    "# remove duplicates based on column 'A'\n",
    "df.drop_duplicates(subset=['A'], keep='first', inplace=True)\n",
    "\n",
    "print(\"\\nDataFrame after removing duplicates based on column 'A':\\n\", df.to_string(index=False))"
   ]
  },
  {
   "cell_type": "markdown",
   "metadata": {},
   "source": [
    "### Rename Column Names to Meaningful Names\n",
    "\n",
    " "
   ]
  },
  {
   "cell_type": "code",
   "execution_count": 49,
   "metadata": {},
   "outputs": [
    {
     "name": "stdout",
     "output_type": "stream",
     "text": [
      " Age  Name  Salary\n",
      "  25  John   50000\n",
      "  30   Doe   60000\n",
      "  35 Smith   70000\n"
     ]
    }
   ],
   "source": [
    "import pandas as pd\n",
    "\n",
    "# sample data\n",
    "data = {\n",
    "    'A': [25, 30, 35],\n",
    "    'B': ['John', 'Doe', 'Smith'],\n",
    "    'C': [50000, 60000, 70000]\n",
    "}\n",
    "\n",
    "df = pd.DataFrame(data)\n",
    "\n",
    "# rename columns\n",
    "df.rename(columns={'A': 'Age', 'B': 'Name', 'C': 'Salary'}, inplace=True)\n",
    "\n",
    "print(df.to_string(index=False))"
   ]
  },
  {
   "cell_type": "markdown",
   "metadata": {},
   "source": [
    "### Pandas Handling Missing Values\n"
   ]
  },
  {
   "cell_type": "markdown",
   "metadata": {},
   "source": [
    "### Remove Rows Containing Missing Values\n",
    " "
   ]
  },
  {
   "cell_type": "code",
   "execution_count": 51,
   "metadata": {},
   "outputs": [
    {
     "name": "stdout",
     "output_type": "stream",
     "text": [
      "     A    B    C  D\n",
      "0  1.0  NaN  1.0  1\n",
      "1  2.0  2.0  2.0  2\n",
      "2  NaN  3.0  3.0  3\n",
      "3  4.0  4.0  NaN  4\n",
      "4  5.0  5.0  5.0  5\n",
      "\n",
      "     A    B    C  D\n",
      "1  2.0  2.0  2.0  2\n",
      "4  5.0  5.0  5.0  5\n"
     ]
    }
   ],
   "source": [
    "import pandas as pd\n",
    "import numpy as np\n",
    "\n",
    "# create a dataframe with missing values\n",
    "data = {\n",
    "    'A': [1, 2, np.nan, 4, 5],\n",
    "    'B': [np.nan, 2, 3, 4, 5],\n",
    "    'C': [1, 2, 3, np.nan, 5],\n",
    "    'D': [1, 2, 3, 4, 5]\n",
    "}\n",
    "df = pd.DataFrame(data)\n",
    "print(df)\n",
    "print()\n",
    "# remove rows with missing values\n",
    "df.dropna(inplace=True)\n",
    "\n",
    "print(df)\n"
   ]
  },
  {
   "cell_type": "markdown",
   "metadata": {},
   "source": [
    "### Replace Missing Values\n",
    " "
   ]
  },
  {
   "cell_type": "code",
   "execution_count": 53,
   "metadata": {},
   "outputs": [
    {
     "name": "stdout",
     "output_type": "stream",
     "text": [
      "     A    B    C  D\n",
      "0  1.0  NaN  1.0  1\n",
      "1  2.0  2.0  2.0  2\n",
      "2  NaN  3.0  3.0  3\n",
      "3  4.0  4.0  NaN  4\n",
      "4  5.0  5.0  5.0  5\n",
      "\n",
      "     A    B    C  D\n",
      "0  1.0  0.0  1.0  1\n",
      "1  2.0  2.0  2.0  2\n",
      "2  0.0  3.0  3.0  3\n",
      "3  4.0  4.0  0.0  4\n",
      "4  5.0  5.0  5.0  5\n"
     ]
    }
   ],
   "source": [
    "import pandas as pd\n",
    "import numpy as np\n",
    "\n",
    "# create a dataframe with missing values\n",
    "data = {\n",
    "    'A': [1, 2, np.nan, 4, 5],\n",
    "    'B': [np.nan, 2, 3, 4, 5],\n",
    "    'C': [1, 2, 3, np.nan, 5],\n",
    "    'D': [1, 2, 3, 4, 5]\n",
    "}\n",
    "df = pd.DataFrame(data)\n",
    "print(df)\n",
    "print()\n",
    "# replace missing values with 0\n",
    "df.fillna(value=0, inplace=True)\n",
    "\n",
    "print(df)"
   ]
  },
  {
   "cell_type": "markdown",
   "metadata": {},
   "source": [
    "### Replace Missing Values With Mean, Median and Mode\n"
   ]
  },
  {
   "cell_type": "code",
   "execution_count": 55,
   "metadata": {},
   "outputs": [
    {
     "name": "stdout",
     "output_type": "stream",
     "text": [
      "     A    B    C  D\n",
      "0  1.0  NaN  1.0  1\n",
      "1  2.0  2.0  2.0  2\n",
      "2  NaN  3.0  3.0  3\n",
      "3  4.0  4.0  NaN  4\n",
      "4  5.0  5.0  5.0  5\n"
     ]
    }
   ],
   "source": [
    "import pandas as pd\n",
    "import numpy as np\n",
    "\n",
    "# create a dataframe with missing values\n",
    "data = {\n",
    "    'A': [1, 2, np.nan, 4, 5],\n",
    "    'B': [np.nan, 2, 3, 4, 5],\n",
    "    'C': [1, 2, 3, np.nan, 5],\n",
    "    'D': [1, 2, 3, 4, 5]\n",
    "}\n",
    "df = pd.DataFrame(data)\n",
    "\n",
    "# replace missing values with mean\n",
    "df['A'].fillna(value=df['A'].mean() )\n",
    "\n",
    "# replace missing values with median\n",
    "df['B'].fillna(value=df['B'].median() )\n",
    "\n",
    "# replace missing values with mode\n",
    "df['C'].fillna(value=df['C'].mode()[0] )\n",
    "\n",
    "print(df)"
   ]
  },
  {
   "cell_type": "markdown",
   "metadata": {},
   "source": [
    "### Replace Values Using Another DataFrame\n",
    "\n",
    " "
   ]
  },
  {
   "cell_type": "code",
   "execution_count": 56,
   "metadata": {},
   "outputs": [
    {
     "name": "stdout",
     "output_type": "stream",
     "text": [
      "      A     B     C  D\n",
      "0   1.0  10.0   1.0  1\n",
      "1   2.0   2.0   2.0  2\n",
      "2  30.0   3.0   3.0  3\n",
      "3   4.0   4.0  40.0  4\n",
      "4   5.0   5.0   5.0  5\n"
     ]
    }
   ],
   "source": [
    "import pandas as pd\n",
    "import numpy as np\n",
    "\n",
    "# create a dataframe with missing values\n",
    "data1 = {\n",
    "    'A': [1, 2, np.nan, 4, 5],\n",
    "    'B': [np.nan, 2, 3, 4, 5],\n",
    "    'C': [1, 2, 3, np.nan, 5],\n",
    "    'D': [1, 2, 3, 4, 5]\n",
    "}\n",
    "df1 = pd.DataFrame(data1)\n",
    "\n",
    "# create datframe to fill the missing values with\n",
    "data2 = {\n",
    "    'A': [10, 20, 30, 40, 50],\n",
    "    'B': [10, 20, 30, 40, 50],\n",
    "    'C': [10, 20, 30, 40, 50],\n",
    "    'D': [10, 20, 30, 40, 50]\n",
    "}\n",
    "df2 = pd.DataFrame(data2)\n",
    "\n",
    "# replace missing values\n",
    "df1.fillna(df2, inplace=True)\n",
    "\n",
    "print(df1)"
   ]
  },
  {
   "cell_type": "markdown",
   "metadata": {},
   "source": [
    "## Pandas Handling Wrong Format\n",
    " "
   ]
  },
  {
   "cell_type": "markdown",
   "metadata": {},
   "source": [
    "### Convert Data to Correct Format "
   ]
  },
  {
   "cell_type": "code",
   "execution_count": 57,
   "metadata": {},
   "outputs": [
    {
     "name": "stdout",
     "output_type": "stream",
     "text": [
      "26.560000000000002\n"
     ]
    }
   ],
   "source": [
    "import pandas as pd\n",
    "\n",
    "# create dataframe\n",
    "data = {\n",
    "    'Country': ['USA', 'Canada', 'Australia', 'Germany', 'Japan'],\n",
    "    'Date': ['2023-07-20', '2023-07-21', '2023-07-22', '2023-07-23', '2023-07-24'],\n",
    "    'Temperature': [25.5, '28.0', 30.2, 22.8, 26.3]\n",
    "}\n",
    "df = pd.DataFrame(data)\n",
    "\n",
    "# convert temperature column to float\n",
    "df['Temperature'] = df['Temperature'].astype(float)\n",
    "\n",
    "# calculate the mean temperature\n",
    "mean_temperature = df['Temperature'].mean()\n",
    "\n",
    "print(mean_temperature)"
   ]
  },
  {
   "cell_type": "markdown",
   "metadata": {},
   "source": [
    "### Handling Mixed Date Formats\n"
   ]
  },
  {
   "cell_type": "code",
   "execution_count": 58,
   "metadata": {},
   "outputs": [
    {
     "name": "stdout",
     "output_type": "stream",
     "text": [
      "        date\n",
      "0 2022-12-01\n",
      "1 2022-02-01\n",
      "2 2022-03-23\n",
      "3 2022-02-03\n",
      "4 2023-04-03\n",
      "5 2023-09-30\n"
     ]
    }
   ],
   "source": [
    "import pandas as pd\n",
    "\n",
    "# create a sample dataframe with mixed date formats\n",
    "df = pd.DataFrame({'date': ['2022-12-01', '01/02/2022', '2022-03-23', '03/02/2022', '3 4 2023', '2023.9.30']})\n",
    "\n",
    "# convert the date column to datetime format\n",
    "df['date'] = pd.to_datetime(df['date'], format='mixed', dayfirst=True)\n",
    "\n",
    "print(df)"
   ]
  },
  {
   "cell_type": "markdown",
   "metadata": {},
   "source": [
    "## Pandas Handling Wrong Data "
   ]
  },
  {
   "cell_type": "markdown",
   "metadata": {},
   "source": [
    "### Replace Individual Values\n",
    " "
   ]
  },
  {
   "cell_type": "code",
   "execution_count": 59,
   "metadata": {},
   "outputs": [
    {
     "name": "stdout",
     "output_type": "stream",
     "text": [
      "      Name  Age Gender  Standard\n",
      "0     John    8      M         3\n",
      "1  Michael    9      M         4\n",
      "2      Tom    7      M        12\n",
      "3     Alex   80      M         3\n",
      "4     Ryan  100      M         5\n"
     ]
    }
   ],
   "source": [
    "import pandas as pd\n",
    "\n",
    "# create dataframe\n",
    "data = {\n",
    "    'Name': ['John', 'Michael', 'Tom', 'Alex', 'Ryan'],\n",
    "    'Age': [8, 9, 7, 80, 100],\n",
    "    'Gender': ['M', 'M', 'M', 'F', 'M'],\n",
    "    'Standard': [3, 4, 12, 3, 5]\n",
    "}\n",
    "df = pd.DataFrame(data)\n",
    "\n",
    "# replace F with M\n",
    "df.loc[3, 'Gender'] = 'M'\n",
    "\n",
    "print(df)"
   ]
  },
  {
   "cell_type": "markdown",
   "metadata": {},
   "source": [
    "### Replace Values Based on a Condition\n",
    " "
   ]
  },
  {
   "cell_type": "code",
   "execution_count": 60,
   "metadata": {},
   "outputs": [
    {
     "name": "stdout",
     "output_type": "stream",
     "text": [
      "      Name  Age Gender  Standard\n",
      "0     John    8      M         3\n",
      "1  Michael    9      M         4\n",
      "2      Tom    7      M        12\n",
      "3     Alex    8      M         3\n",
      "4     Ryan   10      M         5\n"
     ]
    }
   ],
   "source": [
    "import pandas as pd\n",
    "\n",
    "# create dataframe\n",
    "data = {\n",
    "    'Name': ['John', 'Michael', 'Tom', 'Alex', 'Ryan'],\n",
    "    'Age': [8, 9, 7, 80, 100],\n",
    "    'Gender': ['M', 'M', 'M', 'M', 'M'],\n",
    "    'Standard': [3, 4, 12, 3, 5]\n",
    "}\n",
    "df = pd.DataFrame(data)\n",
    "\n",
    "# replace values based on conditions\n",
    "for i  in df.index:\n",
    "    age_val = df.loc[i, 'Age']\n",
    "    if (age_val > 14) and (age_val%10 == 0):\n",
    "        df.loc[i, 'Age'] = age_val/10\n",
    "\n",
    "print(df)"
   ]
  },
  {
   "cell_type": "markdown",
   "metadata": {},
   "source": [
    "### Remove Wrong Values\n",
    " "
   ]
  },
  {
   "cell_type": "code",
   "execution_count": 61,
   "metadata": {},
   "outputs": [
    {
     "name": "stdout",
     "output_type": "stream",
     "text": [
      "      Name  Age Gender  Standard\n",
      "0     John    8      M         3\n",
      "1  Michael    9      M         4\n",
      "3     Alex    8      M         3\n",
      "4     Ryan   10      M         5\n"
     ]
    }
   ],
   "source": [
    "import pandas as pd\n",
    "\n",
    "# create dataframe\n",
    "data = {\n",
    "    'Name': ['John', 'Michael', 'Tom', 'Alex', 'Ryan'],\n",
    "    'Age': [8, 9, 7, 8, 10],\n",
    "    'Gender': ['M', 'M', 'M', 'M', 'M'],\n",
    "    'Standard': [3, 4, 12, 3, 5]\n",
    "}\n",
    "df = pd.DataFrame(data)\n",
    "\n",
    "# remove mistaken values\n",
    "for i in df.index:\n",
    "    if df.loc[i,'Standard'] > 8:\n",
    "        df.drop(i, inplace=True)\n",
    "\n",
    "print(df)"
   ]
  },
  {
   "cell_type": "markdown",
   "metadata": {},
   "source": [
    "### Pandas Get Dummies\n",
    " "
   ]
  },
  {
   "cell_type": "markdown",
   "metadata": {},
   "source": [
    "### Using get_dummies() on Pandas Series\n",
    "\n",
    " "
   ]
  },
  {
   "cell_type": "code",
   "execution_count": 62,
   "metadata": {},
   "outputs": [
    {
     "name": "stdout",
     "output_type": "stream",
     "text": [
      "       A      B      C\n",
      "0   True  False  False\n",
      "1  False   True  False\n",
      "2   True  False  False\n",
      "3  False  False   True\n",
      "4  False   True  False\n"
     ]
    }
   ],
   "source": [
    "import pandas as pd\n",
    "\n",
    "# create a Panda Series\n",
    "data = pd.Series(['A', 'B', 'A', 'C', 'B'])\n",
    "\n",
    "# using get_dummies on the Series\n",
    "dummies = pd.get_dummies(data)\n",
    "\n",
    "print(dummies)"
   ]
  },
  {
   "cell_type": "markdown",
   "metadata": {},
   "source": [
    "### Use get_dummies() on a DataFrame Column\n",
    " "
   ]
  },
  {
   "cell_type": "code",
   "execution_count": 63,
   "metadata": {},
   "outputs": [
    {
     "name": "stdout",
     "output_type": "stream",
     "text": [
      "   Color   Blue  Green    Red\n",
      "0    Red  False  False   True\n",
      "1  Green  False   True  False\n",
      "2   Blue   True  False  False\n",
      "3  Green  False   True  False\n",
      "4    Red  False  False   True\n"
     ]
    }
   ],
   "source": [
    "import pandas as pd\n",
    "\n",
    "# sample data\n",
    "data = {'Color': ['Red', 'Green', 'Blue', 'Green', 'Red']}\n",
    "\n",
    "# creating a DataFrame\n",
    "df = pd.DataFrame(data)\n",
    "\n",
    "# using get_dummies to convert the categorical column\n",
    "dummies = pd.get_dummies(df['Color'])\n",
    "\n",
    "# concatenating the dummies DataFrame with the original DataFrame\n",
    "df = pd.concat([df, dummies], axis=1)\n",
    "\n",
    "print(df)"
   ]
  },
  {
   "cell_type": "markdown",
   "metadata": {},
   "source": [
    "\n",
    "## Pandas Categorical\n",
    " "
   ]
  },
  {
   "cell_type": "markdown",
   "metadata": {},
   "source": [
    "### Create Categorical Data Type in Pandas\n",
    "\n",
    " "
   ]
  },
  {
   "cell_type": "code",
   "execution_count": 64,
   "metadata": {},
   "outputs": [
    {
     "name": "stdout",
     "output_type": "stream",
     "text": [
      "['red', 'blue', 'green', 'red', 'blue']\n",
      "Categories (3, object): ['blue', 'green', 'red']\n"
     ]
    }
   ],
   "source": [
    "import pandas as pd\n",
    "\n",
    "data = ['red', 'blue', 'green', 'red', 'blue']\n",
    "\n",
    "# create a categorical column\n",
    "categorical_data = pd.Categorical(data)\n",
    "\n",
    "print(categorical_data)"
   ]
  },
  {
   "cell_type": "markdown",
   "metadata": {},
   "source": [
    "### Convert Pandas Series to Categorical Series\n",
    "\n",
    " "
   ]
  },
  {
   "cell_type": "code",
   "execution_count": 65,
   "metadata": {},
   "outputs": [
    {
     "name": "stdout",
     "output_type": "stream",
     "text": [
      "0      red\n",
      "1     blue\n",
      "2    green\n",
      "3      red\n",
      "4     blue\n",
      "dtype: category\n",
      "Categories (3, object): ['blue', 'green', 'red']\n"
     ]
    }
   ],
   "source": [
    "import pandas as pd\n",
    "\n",
    "# create a regular Series\n",
    "data = ['red', 'blue', 'green', 'red', 'blue']\n",
    "series1 = pd.Series(data)\n",
    "\n",
    "# convert the Series to a categorical Series using .astype()\n",
    "categorical_s = series1.astype('category')\n",
    "\n",
    "print(categorical_s)"
   ]
  },
  {
   "cell_type": "markdown",
   "metadata": {},
   "source": [
    "### Using the dtype parameter Inside Series()"
   ]
  },
  {
   "cell_type": "code",
   "execution_count": 66,
   "metadata": {},
   "outputs": [
    {
     "name": "stdout",
     "output_type": "stream",
     "text": [
      "0    A\n",
      "1    B\n",
      "2    A\n",
      "3    C\n",
      "4    B\n",
      "dtype: category\n",
      "Categories (3, object): ['A', 'B', 'C']\n"
     ]
    }
   ],
   "source": [
    "import pandas as pd\n",
    "\n",
    "# create a categorical Series\n",
    "data = ['A', 'B', 'A', 'C', 'B']\n",
    "cat_series = pd.Series(data, dtype=\"category\")\n",
    "\n",
    "print(cat_series)"
   ]
  }
 ],
 "metadata": {
  "kernelspec": {
   "display_name": "Python 3",
   "language": "python",
   "name": "python3"
  },
  "language_info": {
   "codemirror_mode": {
    "name": "ipython",
    "version": 3
   },
   "file_extension": ".py",
   "mimetype": "text/x-python",
   "name": "python",
   "nbconvert_exporter": "python",
   "pygments_lexer": "ipython3",
   "version": "3.12.3"
  }
 },
 "nbformat": 4,
 "nbformat_minor": 2
}
